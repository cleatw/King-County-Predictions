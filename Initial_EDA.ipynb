{
 "cells": [
  {
   "cell_type": "markdown",
   "id": "e7362b1d",
   "metadata": {},
   "source": [
    "# Initial EDA and Cleaning\n",
    "-----------"
   ]
  },
  {
   "cell_type": "code",
   "execution_count": 1,
   "id": "4b1b9f3e",
   "metadata": {},
   "outputs": [],
   "source": [
    "# Import general libraries\n",
    "import pandas as pd\n",
    "import matplotlib.pyplot as plt\n",
    "import matplotlib\n",
    "import numpy as np"
   ]
  },
  {
   "cell_type": "markdown",
   "id": "b53ae20e",
   "metadata": {},
   "source": [
    "----------"
   ]
  },
  {
   "cell_type": "markdown",
   "id": "b751c94a",
   "metadata": {},
   "source": [
    "### Useful Functions"
   ]
  },
  {
   "cell_type": "code",
   "execution_count": 2,
   "id": "39fbf4a9",
   "metadata": {},
   "outputs": [],
   "source": [
    "# importing relevant library\n",
    "from statsmodels.tsa.stattools import adfuller\n",
    "\n",
    "# For testing stationarity\n",
    "def dicky_fuller_test(data, alpha):\n",
    "    is_stationary = adfuller(data)[1] < alpha\n",
    "    if is_stationary == True:\n",
    "        print(f'The data is stationary with a fuller score of {round(adfuller(data)[1],3)}')\n",
    "    else:\n",
    "        print(f'The data is not stationary with a fuller score of {round(adfuller(data)[1],3)}')\n",
    "    return"
   ]
  },
  {
   "cell_type": "code",
   "execution_count": 3,
   "id": "3dbe65e8",
   "metadata": {},
   "outputs": [],
   "source": [
    "# Defining a function to pop things from a list.\n",
    "def without(lst, idx):\n",
    "    return [x for i, x in enumerate(lst) if i != idx]"
   ]
  },
  {
   "cell_type": "code",
   "execution_count": 4,
   "id": "0b8528f3",
   "metadata": {},
   "outputs": [],
   "source": [
    "# Creating function to melt dataframes and set time-date index\n",
    "#      - To use this function your dataframe must be in wide format with your first column as your intended columns.\n",
    "#      - IE, your dataframe should look like this:\n",
    "#       =====================================================\n",
    "#       =      = Cities = 1996-01 = 1996-02 = 1996-03 = ... = \n",
    "#       =====================================================\n",
    "#       =      = Dallas = 334200. = 123456. = 123525. = ... =\n",
    "#       =      = Austin = 235700. = 123456. = 123552. = ... =\n",
    "#       =      = San A* = 500900. = 123456. = 123235. = ... =\n",
    "#       =      = Porch  = 1287700 = 1234567 = 123123. = ... =\n",
    "#       = ...  =\n",
    "#       =      = Katy   = 235700. = 12345.0 = 1231.01 = ... =\n",
    "#       =      = McKin* = 235700. = 123445. = 123456. = ... =\n",
    "#       =      = El Pa* = 1287700 = 1234565 = 1234512 = ... =\n",
    "#       =====================================================\n",
    "\n",
    "def format_df(df):\n",
    "    test_list = pd.melt(df, id_vars = df.columns.to_list()[:1], var_name='Date')\n",
    "    test_list['Date'] = pd.to_datetime(test_list['Date'], infer_datetime_format=True)\n",
    "    test_list = test_list.dropna(subset=['value'])\n",
    "    test_list.groupby('Date').aggregate({'value':'mean'})\n",
    "    return test_list.pivot_table(index='Date', columns=df.columns.to_list()[:1], values='value')\n"
   ]
  },
  {
   "cell_type": "code",
   "execution_count": 5,
   "id": "ff2905d1",
   "metadata": {},
   "outputs": [],
   "source": [
    "# This function takes a formatted dataframe from format_df(), a window for the rolling mean \n",
    "# and an alpha for a dicky fuller test and performs two transformations:\n",
    "#\n",
    "# 1. The dataframe's rolling average is subtracted from the dataframe and a fuller score is printed.\n",
    "#\n",
    "# 2. A difference is performed on the dataframe resulting from step 1 and a fuller score is printed.\n",
    "#\n",
    "# The function returns the transformed dataframe. If the steps prior are sufficient to make a stationary\n",
    "# series, the function will return the dataframe that is sufficiently stationary.\n",
    "\n",
    "def stationizer(df, window, alpha=0.05, verbose=True):\n",
    "    df1 = df - df.rolling(window=window).mean().dropna()\n",
    "    df2 = df1.diff().dropna()\n",
    "    df3 = df.diff().dropna()\n",
    "    df4 = df.diff().diff().dropna()\n",
    "    \n",
    "    if verbose == True:\n",
    "        print(f'Before transformations:')\n",
    "        dicky_fuller_test(df.dropna(), alpha)\n",
    "        print(f'After subtracting rolling mean:')\n",
    "        dicky_fuller_test(df1.dropna(), alpha)\n",
    "        print(f'After differencing:')\n",
    "        dicky_fuller_test(df2.dropna(), alpha)\n",
    "        print('With only differencing:')\n",
    "        dicky_fuller_test(df3.dropna(), alpha)\n",
    "        print('With differencing twice:')\n",
    "        dicky_fuller_test(df4.dropna(), alpha)\n",
    "    \n",
    "    if adfuller(df)[1] < alpha:\n",
    "        return df\n",
    "    elif adfuller(df1.dropna())[1] < alpha:\n",
    "        return df1\n",
    "    elif adfuller(df3.dropna())[1] < alpha:\n",
    "        return df3\n",
    "    elif adfuller(df2.dropna())[1] < alpha:\n",
    "        return df2\n",
    "    else:\n",
    "        return df4"
   ]
  },
  {
   "cell_type": "code",
   "execution_count": 6,
   "id": "41d466cd",
   "metadata": {},
   "outputs": [],
   "source": [
    "# This function returns the dataframe with quartarly ROI values for a given set of price in series.\n",
    "\n",
    "def get_qroi(d):\n",
    "    return (d.rolling(window = 3).max() - d.rolling(window = 3).min()) / d.rolling(window = 3).min()"
   ]
  },
  {
   "cell_type": "code",
   "execution_count": 7,
   "id": "eb2168c2",
   "metadata": {},
   "outputs": [],
   "source": [
    "# This function checks for null values by column\n",
    "def get_na(df):\n",
    "    for i in df.columns:\n",
    "        if df[i].isna().value_counts().tolist()[0] != df.shape[0]:\n",
    "            print(f'{i} has null values')\n",
    "    pass"
   ]
  },
  {
   "cell_type": "code",
   "execution_count": 8,
   "id": "d06b8a0d",
   "metadata": {},
   "outputs": [],
   "source": [
    "def fix_na(df):\n",
    "    # interpolate and backfill\n",
    "    df = df.interpolate(method='linear').fillna(value=None, method='backfill', axis=None, limit=None, downcast=None).dropna(axis=1, how='all')\n",
    "    return df"
   ]
  },
  {
   "cell_type": "markdown",
   "id": "971b44a5",
   "metadata": {},
   "source": [
    "----------"
   ]
  },
  {
   "cell_type": "markdown",
   "id": "1b735726",
   "metadata": {},
   "source": [
    "## Viewing RAW"
   ]
  },
  {
   "cell_type": "code",
   "execution_count": 9,
   "id": "00693cbd",
   "metadata": {},
   "outputs": [
    {
     "data": {
      "text/plain": [
       "(14723, 272)"
      ]
     },
     "execution_count": 9,
     "metadata": {},
     "output_type": "execute_result"
    }
   ],
   "source": [
    "# Load in the dataset\n",
    "raw = pd.read_csv(\"./00_Source_Data/zillow_data.csv\")\n",
    "raw.shape"
   ]
  },
  {
   "cell_type": "code",
   "execution_count": 10,
   "id": "e1410e8c",
   "metadata": {},
   "outputs": [
    {
     "data": {
      "text/html": [
       "<div>\n",
       "<style scoped>\n",
       "    .dataframe tbody tr th:only-of-type {\n",
       "        vertical-align: middle;\n",
       "    }\n",
       "\n",
       "    .dataframe tbody tr th {\n",
       "        vertical-align: top;\n",
       "    }\n",
       "\n",
       "    .dataframe thead th {\n",
       "        text-align: right;\n",
       "    }\n",
       "</style>\n",
       "<table border=\"1\" class=\"dataframe\">\n",
       "  <thead>\n",
       "    <tr style=\"text-align: right;\">\n",
       "      <th></th>\n",
       "      <th>RegionID</th>\n",
       "      <th>RegionName</th>\n",
       "      <th>City</th>\n",
       "      <th>State</th>\n",
       "      <th>Metro</th>\n",
       "      <th>CountyName</th>\n",
       "      <th>SizeRank</th>\n",
       "      <th>1996-04</th>\n",
       "      <th>1996-05</th>\n",
       "      <th>1996-06</th>\n",
       "      <th>...</th>\n",
       "      <th>2017-07</th>\n",
       "      <th>2017-08</th>\n",
       "      <th>2017-09</th>\n",
       "      <th>2017-10</th>\n",
       "      <th>2017-11</th>\n",
       "      <th>2017-12</th>\n",
       "      <th>2018-01</th>\n",
       "      <th>2018-02</th>\n",
       "      <th>2018-03</th>\n",
       "      <th>2018-04</th>\n",
       "    </tr>\n",
       "  </thead>\n",
       "  <tbody>\n",
       "    <tr>\n",
       "      <th>0</th>\n",
       "      <td>84654</td>\n",
       "      <td>60657</td>\n",
       "      <td>Chicago</td>\n",
       "      <td>IL</td>\n",
       "      <td>Chicago</td>\n",
       "      <td>Cook</td>\n",
       "      <td>1</td>\n",
       "      <td>334200.0</td>\n",
       "      <td>335400.0</td>\n",
       "      <td>336500.0</td>\n",
       "      <td>...</td>\n",
       "      <td>1005500</td>\n",
       "      <td>1007500</td>\n",
       "      <td>1007800</td>\n",
       "      <td>1009600</td>\n",
       "      <td>1013300</td>\n",
       "      <td>1018700</td>\n",
       "      <td>1024400</td>\n",
       "      <td>1030700</td>\n",
       "      <td>1033800</td>\n",
       "      <td>1030600</td>\n",
       "    </tr>\n",
       "    <tr>\n",
       "      <th>1</th>\n",
       "      <td>90668</td>\n",
       "      <td>75070</td>\n",
       "      <td>McKinney</td>\n",
       "      <td>TX</td>\n",
       "      <td>Dallas-Fort Worth</td>\n",
       "      <td>Collin</td>\n",
       "      <td>2</td>\n",
       "      <td>235700.0</td>\n",
       "      <td>236900.0</td>\n",
       "      <td>236700.0</td>\n",
       "      <td>...</td>\n",
       "      <td>308000</td>\n",
       "      <td>310000</td>\n",
       "      <td>312500</td>\n",
       "      <td>314100</td>\n",
       "      <td>315000</td>\n",
       "      <td>316600</td>\n",
       "      <td>318100</td>\n",
       "      <td>319600</td>\n",
       "      <td>321100</td>\n",
       "      <td>321800</td>\n",
       "    </tr>\n",
       "    <tr>\n",
       "      <th>2</th>\n",
       "      <td>91982</td>\n",
       "      <td>77494</td>\n",
       "      <td>Katy</td>\n",
       "      <td>TX</td>\n",
       "      <td>Houston</td>\n",
       "      <td>Harris</td>\n",
       "      <td>3</td>\n",
       "      <td>210400.0</td>\n",
       "      <td>212200.0</td>\n",
       "      <td>212200.0</td>\n",
       "      <td>...</td>\n",
       "      <td>321000</td>\n",
       "      <td>320600</td>\n",
       "      <td>320200</td>\n",
       "      <td>320400</td>\n",
       "      <td>320800</td>\n",
       "      <td>321200</td>\n",
       "      <td>321200</td>\n",
       "      <td>323000</td>\n",
       "      <td>326900</td>\n",
       "      <td>329900</td>\n",
       "    </tr>\n",
       "    <tr>\n",
       "      <th>3</th>\n",
       "      <td>84616</td>\n",
       "      <td>60614</td>\n",
       "      <td>Chicago</td>\n",
       "      <td>IL</td>\n",
       "      <td>Chicago</td>\n",
       "      <td>Cook</td>\n",
       "      <td>4</td>\n",
       "      <td>498100.0</td>\n",
       "      <td>500900.0</td>\n",
       "      <td>503100.0</td>\n",
       "      <td>...</td>\n",
       "      <td>1289800</td>\n",
       "      <td>1287700</td>\n",
       "      <td>1287400</td>\n",
       "      <td>1291500</td>\n",
       "      <td>1296600</td>\n",
       "      <td>1299000</td>\n",
       "      <td>1302700</td>\n",
       "      <td>1306400</td>\n",
       "      <td>1308500</td>\n",
       "      <td>1307000</td>\n",
       "    </tr>\n",
       "    <tr>\n",
       "      <th>4</th>\n",
       "      <td>93144</td>\n",
       "      <td>79936</td>\n",
       "      <td>El Paso</td>\n",
       "      <td>TX</td>\n",
       "      <td>El Paso</td>\n",
       "      <td>El Paso</td>\n",
       "      <td>5</td>\n",
       "      <td>77300.0</td>\n",
       "      <td>77300.0</td>\n",
       "      <td>77300.0</td>\n",
       "      <td>...</td>\n",
       "      <td>119100</td>\n",
       "      <td>119400</td>\n",
       "      <td>120000</td>\n",
       "      <td>120300</td>\n",
       "      <td>120300</td>\n",
       "      <td>120300</td>\n",
       "      <td>120300</td>\n",
       "      <td>120500</td>\n",
       "      <td>121000</td>\n",
       "      <td>121500</td>\n",
       "    </tr>\n",
       "  </tbody>\n",
       "</table>\n",
       "<p>5 rows × 272 columns</p>\n",
       "</div>"
      ],
      "text/plain": [
       "   RegionID  RegionName      City State              Metro CountyName  \\\n",
       "0     84654       60657   Chicago    IL            Chicago       Cook   \n",
       "1     90668       75070  McKinney    TX  Dallas-Fort Worth     Collin   \n",
       "2     91982       77494      Katy    TX            Houston     Harris   \n",
       "3     84616       60614   Chicago    IL            Chicago       Cook   \n",
       "4     93144       79936   El Paso    TX            El Paso    El Paso   \n",
       "\n",
       "   SizeRank   1996-04   1996-05   1996-06  ...  2017-07  2017-08  2017-09  \\\n",
       "0         1  334200.0  335400.0  336500.0  ...  1005500  1007500  1007800   \n",
       "1         2  235700.0  236900.0  236700.0  ...   308000   310000   312500   \n",
       "2         3  210400.0  212200.0  212200.0  ...   321000   320600   320200   \n",
       "3         4  498100.0  500900.0  503100.0  ...  1289800  1287700  1287400   \n",
       "4         5   77300.0   77300.0   77300.0  ...   119100   119400   120000   \n",
       "\n",
       "   2017-10  2017-11  2017-12  2018-01  2018-02  2018-03  2018-04  \n",
       "0  1009600  1013300  1018700  1024400  1030700  1033800  1030600  \n",
       "1   314100   315000   316600   318100   319600   321100   321800  \n",
       "2   320400   320800   321200   321200   323000   326900   329900  \n",
       "3  1291500  1296600  1299000  1302700  1306400  1308500  1307000  \n",
       "4   120300   120300   120300   120300   120500   121000   121500  \n",
       "\n",
       "[5 rows x 272 columns]"
      ]
     },
     "execution_count": 10,
     "metadata": {},
     "output_type": "execute_result"
    }
   ],
   "source": [
    "raw.head()"
   ]
  },
  {
   "cell_type": "markdown",
   "id": "cf00f066",
   "metadata": {},
   "source": [
    "--------------\n",
    "\n",
    "## Reformating RAW"
   ]
  },
  {
   "cell_type": "code",
   "execution_count": 11,
   "id": "d580318e",
   "metadata": {},
   "outputs": [
    {
     "name": "stdout",
     "output_type": "stream",
     "text": [
      "There are 14723 unique zipcodes.\n",
      "There are 7554 unique cities.\n",
      "There are 702 unique metros.\n",
      "There are 1212 unique counties.\n",
      "There are 51 unique states.\n"
     ]
    }
   ],
   "source": [
    "# We're interested in value by zipcode, so lets drop all the other location identifiers\n",
    "\n",
    "# First, lets make a dictionary to reference the zipcode to a place\n",
    "unique_zipcodes = raw[\"RegionName\"].unique()\n",
    "unique_cities = raw['City'].unique()\n",
    "unique_metros = raw['Metro'].unique()\n",
    "unique_counties = raw['CountyName'].unique()\n",
    "unique_states = raw['State'].unique()\n",
    "\n",
    "# Print out the length of the unique vars\n",
    "print(f'There are {len(unique_zipcodes)} unique zipcodes.')\n",
    "print(f'There are {len(unique_cities)} unique cities.')\n",
    "print(f'There are {len(unique_metros)} unique metros.')\n",
    "print(f'There are {len(unique_counties)} unique counties.')\n",
    "print(f'There are {len(unique_states)} unique states.')\n",
    "      "
   ]
  },
  {
   "cell_type": "code",
   "execution_count": 12,
   "id": "ff0ac0cc",
   "metadata": {},
   "outputs": [],
   "source": [
    "# Making different dataframes to group by different sets for exploration\n",
    "\n",
    "# Collecting columns with locators\n",
    "locators = ['RegionID', 'RegionName', 'City', 'State', 'Metro', 'CountyName', 'SizeRank']\n",
    "\n",
    "# Creating seperate dataframes by locators\n",
    "df_zips = raw.drop(columns= without(locators, 1))\n",
    "df_cities = raw.drop(columns= without(locators, 2))\n",
    "df_states = raw.drop(columns= without(locators, 3))\n",
    "df_metros = raw.drop(columns= without(locators, 4))\n",
    "df_counties = raw.drop(columns= without(locators, 5))"
   ]
  },
  {
   "cell_type": "code",
   "execution_count": 14,
   "id": "78a18f84",
   "metadata": {},
   "outputs": [],
   "source": [
    "# Creating a list of dataframes we're interested in looking at for iterating processes.\n",
    "datalist = [df_states, df_metros, df_counties, df_cities]\n",
    "\n",
    "for i, s in enumerate(datalist):\n",
    "    datalist[i] = format_df(s)"
   ]
  },
  {
   "cell_type": "markdown",
   "id": "5feea2a0",
   "metadata": {},
   "source": [
    "--------------------\n",
    "\n",
    "## Exploratory Analysis"
   ]
  },
  {
   "cell_type": "markdown",
   "id": "0b0d7d0b",
   "metadata": {},
   "source": [
    "Zipcodes are not useful to group by because the dataset itself is already grouped by zipcodes. Therefore `df_zip` is the same as `raw` without other locator columns and will be omitted from the grouping process.\n",
    "\n",
    "Likewise, `df_states` will be grouped, but it will inevitably generalize over large areas and may not be as useful as other locators. It's important to note that there will be disparity between the number of records in the states and thus an average of records in one state with a large area will likely have a larger volume to be averaged than a state with less area. This could result in bias for either small or large states."
   ]
  },
  {
   "cell_type": "code",
   "execution_count": 15,
   "id": "29e908f8",
   "metadata": {
    "scrolled": true
   },
   "outputs": [
    {
     "data": {
      "text/html": [
       "<div>\n",
       "<style scoped>\n",
       "    .dataframe tbody tr th:only-of-type {\n",
       "        vertical-align: middle;\n",
       "    }\n",
       "\n",
       "    .dataframe tbody tr th {\n",
       "        vertical-align: top;\n",
       "    }\n",
       "\n",
       "    .dataframe thead th {\n",
       "        text-align: right;\n",
       "    }\n",
       "</style>\n",
       "<table border=\"1\" class=\"dataframe\">\n",
       "  <thead>\n",
       "    <tr style=\"text-align: right;\">\n",
       "      <th>State</th>\n",
       "      <th>AK</th>\n",
       "      <th>AL</th>\n",
       "      <th>AR</th>\n",
       "      <th>AZ</th>\n",
       "      <th>CA</th>\n",
       "      <th>CO</th>\n",
       "      <th>CT</th>\n",
       "      <th>DC</th>\n",
       "      <th>DE</th>\n",
       "      <th>FL</th>\n",
       "      <th>...</th>\n",
       "      <th>SD</th>\n",
       "      <th>TN</th>\n",
       "      <th>TX</th>\n",
       "      <th>UT</th>\n",
       "      <th>VA</th>\n",
       "      <th>VT</th>\n",
       "      <th>WA</th>\n",
       "      <th>WI</th>\n",
       "      <th>WV</th>\n",
       "      <th>WY</th>\n",
       "    </tr>\n",
       "    <tr>\n",
       "      <th>Date</th>\n",
       "      <th></th>\n",
       "      <th></th>\n",
       "      <th></th>\n",
       "      <th></th>\n",
       "      <th></th>\n",
       "      <th></th>\n",
       "      <th></th>\n",
       "      <th></th>\n",
       "      <th></th>\n",
       "      <th></th>\n",
       "      <th></th>\n",
       "      <th></th>\n",
       "      <th></th>\n",
       "      <th></th>\n",
       "      <th></th>\n",
       "      <th></th>\n",
       "      <th></th>\n",
       "      <th></th>\n",
       "      <th></th>\n",
       "      <th></th>\n",
       "      <th></th>\n",
       "    </tr>\n",
       "  </thead>\n",
       "  <tbody>\n",
       "    <tr>\n",
       "      <th>1996-04-01</th>\n",
       "      <td>128382.142857</td>\n",
       "      <td>86795.569620</td>\n",
       "      <td>68868.041237</td>\n",
       "      <td>116202.790698</td>\n",
       "      <td>200220.959596</td>\n",
       "      <td>142561.943320</td>\n",
       "      <td>157189.516129</td>\n",
       "      <td>189216.666667</td>\n",
       "      <td>125784.615385</td>\n",
       "      <td>104529.019608</td>\n",
       "      <td>...</td>\n",
       "      <td>54320.000000</td>\n",
       "      <td>66087.468672</td>\n",
       "      <td>109384.639831</td>\n",
       "      <td>159645.689655</td>\n",
       "      <td>122071.236559</td>\n",
       "      <td>82825.00</td>\n",
       "      <td>140589.285714</td>\n",
       "      <td>115151.376147</td>\n",
       "      <td>66461.666667</td>\n",
       "      <td>138712.500000</td>\n",
       "    </tr>\n",
       "    <tr>\n",
       "      <th>1996-05-01</th>\n",
       "      <td>128832.142857</td>\n",
       "      <td>87122.151899</td>\n",
       "      <td>69015.463918</td>\n",
       "      <td>116562.790698</td>\n",
       "      <td>200124.831650</td>\n",
       "      <td>142765.991903</td>\n",
       "      <td>157063.709677</td>\n",
       "      <td>188611.111111</td>\n",
       "      <td>126234.615385</td>\n",
       "      <td>104594.117647</td>\n",
       "      <td>...</td>\n",
       "      <td>54640.000000</td>\n",
       "      <td>66340.852130</td>\n",
       "      <td>109406.885593</td>\n",
       "      <td>159523.275862</td>\n",
       "      <td>122136.827957</td>\n",
       "      <td>82556.25</td>\n",
       "      <td>140838.988095</td>\n",
       "      <td>115099.388379</td>\n",
       "      <td>66575.000000</td>\n",
       "      <td>138762.500000</td>\n",
       "    </tr>\n",
       "    <tr>\n",
       "      <th>1996-06-01</th>\n",
       "      <td>129253.571429</td>\n",
       "      <td>87460.759494</td>\n",
       "      <td>69140.206186</td>\n",
       "      <td>116934.883721</td>\n",
       "      <td>200035.942761</td>\n",
       "      <td>142985.425101</td>\n",
       "      <td>156926.612903</td>\n",
       "      <td>188011.111111</td>\n",
       "      <td>126665.384615</td>\n",
       "      <td>104662.352941</td>\n",
       "      <td>...</td>\n",
       "      <td>54960.000000</td>\n",
       "      <td>66594.987469</td>\n",
       "      <td>109451.377119</td>\n",
       "      <td>159406.896552</td>\n",
       "      <td>122201.075269</td>\n",
       "      <td>82306.25</td>\n",
       "      <td>141101.488095</td>\n",
       "      <td>115032.110092</td>\n",
       "      <td>66708.333333</td>\n",
       "      <td>138741.666667</td>\n",
       "    </tr>\n",
       "    <tr>\n",
       "      <th>1996-07-01</th>\n",
       "      <td>129639.285714</td>\n",
       "      <td>87798.734177</td>\n",
       "      <td>69262.886598</td>\n",
       "      <td>117315.348837</td>\n",
       "      <td>199965.572391</td>\n",
       "      <td>143204.453441</td>\n",
       "      <td>156778.225806</td>\n",
       "      <td>187438.888889</td>\n",
       "      <td>127026.923077</td>\n",
       "      <td>104727.058824</td>\n",
       "      <td>...</td>\n",
       "      <td>55290.000000</td>\n",
       "      <td>66843.107769</td>\n",
       "      <td>109521.504237</td>\n",
       "      <td>159313.793103</td>\n",
       "      <td>122267.204301</td>\n",
       "      <td>82037.50</td>\n",
       "      <td>141378.571429</td>\n",
       "      <td>114940.672783</td>\n",
       "      <td>66848.333333</td>\n",
       "      <td>138641.666667</td>\n",
       "    </tr>\n",
       "    <tr>\n",
       "      <th>1996-08-01</th>\n",
       "      <td>130028.571429</td>\n",
       "      <td>88156.962025</td>\n",
       "      <td>69378.350515</td>\n",
       "      <td>117719.534884</td>\n",
       "      <td>199958.754209</td>\n",
       "      <td>143461.943320</td>\n",
       "      <td>156640.322581</td>\n",
       "      <td>186900.000000</td>\n",
       "      <td>127346.153846</td>\n",
       "      <td>104816.993464</td>\n",
       "      <td>...</td>\n",
       "      <td>55660.000000</td>\n",
       "      <td>67081.704261</td>\n",
       "      <td>109613.983051</td>\n",
       "      <td>159254.310345</td>\n",
       "      <td>122352.419355</td>\n",
       "      <td>81781.25</td>\n",
       "      <td>141686.011905</td>\n",
       "      <td>114840.978593</td>\n",
       "      <td>67016.666667</td>\n",
       "      <td>138533.333333</td>\n",
       "    </tr>\n",
       "    <tr>\n",
       "      <th>...</th>\n",
       "      <td>...</td>\n",
       "      <td>...</td>\n",
       "      <td>...</td>\n",
       "      <td>...</td>\n",
       "      <td>...</td>\n",
       "      <td>...</td>\n",
       "      <td>...</td>\n",
       "      <td>...</td>\n",
       "      <td>...</td>\n",
       "      <td>...</td>\n",
       "      <td>...</td>\n",
       "      <td>...</td>\n",
       "      <td>...</td>\n",
       "      <td>...</td>\n",
       "      <td>...</td>\n",
       "      <td>...</td>\n",
       "      <td>...</td>\n",
       "      <td>...</td>\n",
       "      <td>...</td>\n",
       "      <td>...</td>\n",
       "      <td>...</td>\n",
       "    </tr>\n",
       "    <tr>\n",
       "      <th>2017-12-01</th>\n",
       "      <td>322657.142857</td>\n",
       "      <td>151629.508197</td>\n",
       "      <td>133188.571429</td>\n",
       "      <td>265908.260870</td>\n",
       "      <td>723263.480392</td>\n",
       "      <td>396777.510040</td>\n",
       "      <td>282175.806452</td>\n",
       "      <td>790450.000000</td>\n",
       "      <td>274487.804878</td>\n",
       "      <td>280250.955414</td>\n",
       "      <td>...</td>\n",
       "      <td>188426.315789</td>\n",
       "      <td>146519.306931</td>\n",
       "      <td>193761.274014</td>\n",
       "      <td>307212.396694</td>\n",
       "      <td>280219.700748</td>\n",
       "      <td>216318.75</td>\n",
       "      <td>394339.589443</td>\n",
       "      <td>195418.072289</td>\n",
       "      <td>124022.222222</td>\n",
       "      <td>227525.806452</td>\n",
       "    </tr>\n",
       "    <tr>\n",
       "      <th>2018-01-01</th>\n",
       "      <td>323775.000000</td>\n",
       "      <td>152402.732240</td>\n",
       "      <td>133522.857143</td>\n",
       "      <td>267327.826087</td>\n",
       "      <td>729496.405229</td>\n",
       "      <td>399905.220884</td>\n",
       "      <td>282852.419355</td>\n",
       "      <td>793622.222222</td>\n",
       "      <td>277912.195122</td>\n",
       "      <td>281561.401274</td>\n",
       "      <td>...</td>\n",
       "      <td>189621.052632</td>\n",
       "      <td>147265.841584</td>\n",
       "      <td>194417.492417</td>\n",
       "      <td>309129.752066</td>\n",
       "      <td>280900.997506</td>\n",
       "      <td>214750.00</td>\n",
       "      <td>398688.563050</td>\n",
       "      <td>196397.891566</td>\n",
       "      <td>124104.166667</td>\n",
       "      <td>228564.516129</td>\n",
       "    </tr>\n",
       "    <tr>\n",
       "      <th>2018-02-01</th>\n",
       "      <td>324167.857143</td>\n",
       "      <td>153625.683060</td>\n",
       "      <td>134456.190476</td>\n",
       "      <td>268714.782609</td>\n",
       "      <td>735525.980392</td>\n",
       "      <td>403134.939759</td>\n",
       "      <td>283826.612903</td>\n",
       "      <td>798838.888889</td>\n",
       "      <td>279470.731707</td>\n",
       "      <td>283416.178344</td>\n",
       "      <td>...</td>\n",
       "      <td>191110.526316</td>\n",
       "      <td>148351.980198</td>\n",
       "      <td>195503.134479</td>\n",
       "      <td>311445.454545</td>\n",
       "      <td>282143.640898</td>\n",
       "      <td>213581.25</td>\n",
       "      <td>402129.912023</td>\n",
       "      <td>197306.024096</td>\n",
       "      <td>124334.722222</td>\n",
       "      <td>229938.709677</td>\n",
       "    </tr>\n",
       "    <tr>\n",
       "      <th>2018-03-01</th>\n",
       "      <td>323692.857143</td>\n",
       "      <td>155504.371585</td>\n",
       "      <td>136192.380952</td>\n",
       "      <td>270488.695652</td>\n",
       "      <td>742146.323529</td>\n",
       "      <td>407292.369478</td>\n",
       "      <td>284893.548387</td>\n",
       "      <td>804600.000000</td>\n",
       "      <td>276529.268293</td>\n",
       "      <td>286090.828025</td>\n",
       "      <td>...</td>\n",
       "      <td>193236.842105</td>\n",
       "      <td>150242.079208</td>\n",
       "      <td>197023.356926</td>\n",
       "      <td>314685.950413</td>\n",
       "      <td>284158.354115</td>\n",
       "      <td>213250.00</td>\n",
       "      <td>405867.155425</td>\n",
       "      <td>198282.228916</td>\n",
       "      <td>124972.222222</td>\n",
       "      <td>230996.774194</td>\n",
       "    </tr>\n",
       "    <tr>\n",
       "      <th>2018-04-01</th>\n",
       "      <td>323046.428571</td>\n",
       "      <td>157033.879781</td>\n",
       "      <td>137620.000000</td>\n",
       "      <td>271952.173913</td>\n",
       "      <td>746329.084967</td>\n",
       "      <td>410528.915663</td>\n",
       "      <td>285431.451613</td>\n",
       "      <td>806166.666667</td>\n",
       "      <td>271897.560976</td>\n",
       "      <td>288191.592357</td>\n",
       "      <td>...</td>\n",
       "      <td>194715.789474</td>\n",
       "      <td>151884.158416</td>\n",
       "      <td>198029.726997</td>\n",
       "      <td>317001.652893</td>\n",
       "      <td>285568.827930</td>\n",
       "      <td>213150.00</td>\n",
       "      <td>408570.381232</td>\n",
       "      <td>199015.361446</td>\n",
       "      <td>125476.388889</td>\n",
       "      <td>231338.709677</td>\n",
       "    </tr>\n",
       "  </tbody>\n",
       "</table>\n",
       "<p>265 rows × 51 columns</p>\n",
       "</div>"
      ],
      "text/plain": [
       "State                  AK             AL             AR             AZ  \\\n",
       "Date                                                                     \n",
       "1996-04-01  128382.142857   86795.569620   68868.041237  116202.790698   \n",
       "1996-05-01  128832.142857   87122.151899   69015.463918  116562.790698   \n",
       "1996-06-01  129253.571429   87460.759494   69140.206186  116934.883721   \n",
       "1996-07-01  129639.285714   87798.734177   69262.886598  117315.348837   \n",
       "1996-08-01  130028.571429   88156.962025   69378.350515  117719.534884   \n",
       "...                   ...            ...            ...            ...   \n",
       "2017-12-01  322657.142857  151629.508197  133188.571429  265908.260870   \n",
       "2018-01-01  323775.000000  152402.732240  133522.857143  267327.826087   \n",
       "2018-02-01  324167.857143  153625.683060  134456.190476  268714.782609   \n",
       "2018-03-01  323692.857143  155504.371585  136192.380952  270488.695652   \n",
       "2018-04-01  323046.428571  157033.879781  137620.000000  271952.173913   \n",
       "\n",
       "State                  CA             CO             CT             DC  \\\n",
       "Date                                                                     \n",
       "1996-04-01  200220.959596  142561.943320  157189.516129  189216.666667   \n",
       "1996-05-01  200124.831650  142765.991903  157063.709677  188611.111111   \n",
       "1996-06-01  200035.942761  142985.425101  156926.612903  188011.111111   \n",
       "1996-07-01  199965.572391  143204.453441  156778.225806  187438.888889   \n",
       "1996-08-01  199958.754209  143461.943320  156640.322581  186900.000000   \n",
       "...                   ...            ...            ...            ...   \n",
       "2017-12-01  723263.480392  396777.510040  282175.806452  790450.000000   \n",
       "2018-01-01  729496.405229  399905.220884  282852.419355  793622.222222   \n",
       "2018-02-01  735525.980392  403134.939759  283826.612903  798838.888889   \n",
       "2018-03-01  742146.323529  407292.369478  284893.548387  804600.000000   \n",
       "2018-04-01  746329.084967  410528.915663  285431.451613  806166.666667   \n",
       "\n",
       "State                  DE             FL  ...             SD             TN  \\\n",
       "Date                                      ...                                 \n",
       "1996-04-01  125784.615385  104529.019608  ...   54320.000000   66087.468672   \n",
       "1996-05-01  126234.615385  104594.117647  ...   54640.000000   66340.852130   \n",
       "1996-06-01  126665.384615  104662.352941  ...   54960.000000   66594.987469   \n",
       "1996-07-01  127026.923077  104727.058824  ...   55290.000000   66843.107769   \n",
       "1996-08-01  127346.153846  104816.993464  ...   55660.000000   67081.704261   \n",
       "...                   ...            ...  ...            ...            ...   \n",
       "2017-12-01  274487.804878  280250.955414  ...  188426.315789  146519.306931   \n",
       "2018-01-01  277912.195122  281561.401274  ...  189621.052632  147265.841584   \n",
       "2018-02-01  279470.731707  283416.178344  ...  191110.526316  148351.980198   \n",
       "2018-03-01  276529.268293  286090.828025  ...  193236.842105  150242.079208   \n",
       "2018-04-01  271897.560976  288191.592357  ...  194715.789474  151884.158416   \n",
       "\n",
       "State                  TX             UT             VA         VT  \\\n",
       "Date                                                                 \n",
       "1996-04-01  109384.639831  159645.689655  122071.236559   82825.00   \n",
       "1996-05-01  109406.885593  159523.275862  122136.827957   82556.25   \n",
       "1996-06-01  109451.377119  159406.896552  122201.075269   82306.25   \n",
       "1996-07-01  109521.504237  159313.793103  122267.204301   82037.50   \n",
       "1996-08-01  109613.983051  159254.310345  122352.419355   81781.25   \n",
       "...                   ...            ...            ...        ...   \n",
       "2017-12-01  193761.274014  307212.396694  280219.700748  216318.75   \n",
       "2018-01-01  194417.492417  309129.752066  280900.997506  214750.00   \n",
       "2018-02-01  195503.134479  311445.454545  282143.640898  213581.25   \n",
       "2018-03-01  197023.356926  314685.950413  284158.354115  213250.00   \n",
       "2018-04-01  198029.726997  317001.652893  285568.827930  213150.00   \n",
       "\n",
       "State                  WA             WI             WV             WY  \n",
       "Date                                                                    \n",
       "1996-04-01  140589.285714  115151.376147   66461.666667  138712.500000  \n",
       "1996-05-01  140838.988095  115099.388379   66575.000000  138762.500000  \n",
       "1996-06-01  141101.488095  115032.110092   66708.333333  138741.666667  \n",
       "1996-07-01  141378.571429  114940.672783   66848.333333  138641.666667  \n",
       "1996-08-01  141686.011905  114840.978593   67016.666667  138533.333333  \n",
       "...                   ...            ...            ...            ...  \n",
       "2017-12-01  394339.589443  195418.072289  124022.222222  227525.806452  \n",
       "2018-01-01  398688.563050  196397.891566  124104.166667  228564.516129  \n",
       "2018-02-01  402129.912023  197306.024096  124334.722222  229938.709677  \n",
       "2018-03-01  405867.155425  198282.228916  124972.222222  230996.774194  \n",
       "2018-04-01  408570.381232  199015.361446  125476.388889  231338.709677  \n",
       "\n",
       "[265 rows x 51 columns]"
      ]
     },
     "execution_count": 15,
     "metadata": {},
     "output_type": "execute_result"
    }
   ],
   "source": [
    "t = datalist[0]\n",
    "t"
   ]
  },
  {
   "cell_type": "code",
   "execution_count": 16,
   "id": "13689826",
   "metadata": {},
   "outputs": [
    {
     "data": {
      "image/png": "[encoded data removed]",
      "text/plain": [
       "<Figure size 1008x432 with 1 Axes>"
      ]
     },
     "metadata": {
      "needs_background": "light"
     },
     "output_type": "display_data"
    }
   ],
   "source": [
    "t['TX'].plot(figsize=(14,6), linewidth=2, fontsize=14)\n",
    "t['WA'].plot(figsize=(14,6), linewidth=2, fontsize=14)\n",
    "t['NJ'].plot(figsize=(14,6), linewidth=2, fontsize=14)\n",
    "t['NY'].plot(figsize=(14,6), linewidth=2, fontsize=14)\n",
    "plt.legend(fontsize=20)\n",
    "plt.xlabel('Date',fontsize=20);"
   ]
  },
  {
   "cell_type": "code",
   "execution_count": 17,
   "id": "3d4c21ce",
   "metadata": {},
   "outputs": [],
   "source": [
    "tx_diff = t['TX'].diff().dropna()"
   ]
  },
  {
   "cell_type": "code",
   "execution_count": 18,
   "id": "829f6631",
   "metadata": {
    "scrolled": true
   },
   "outputs": [
    {
     "data": {
      "text/plain": [
       "<AxesSubplot:xlabel='Date'>"
      ]
     },
     "execution_count": 18,
     "metadata": {},
     "output_type": "execute_result"
    },
    {
     "data": {
      "image/png": "[encoded data removed]",
      "text/plain": [
       "<Figure size 1008x432 with 1 Axes>"
      ]
     },
     "metadata": {
      "needs_background": "light"
     },
     "output_type": "display_data"
    }
   ],
   "source": [
    "tx_diff.plot(figsize=(14,6), linewidth=2, fontsize=14)"
   ]
  },
  {
   "cell_type": "code",
   "execution_count": 19,
   "id": "591f258c",
   "metadata": {},
   "outputs": [
    {
     "name": "stdout",
     "output_type": "stream",
     "text": [
      "The data is not stationary with a fuller score of 0.28\n"
     ]
    }
   ],
   "source": [
    "dicky_fuller_test(tx_diff, 0.05)"
   ]
  },
  {
   "cell_type": "code",
   "execution_count": 20,
   "id": "5feef584",
   "metadata": {},
   "outputs": [],
   "source": [
    "tx_roll = t['TX'].rolling(window=12).mean().dropna()\n",
    "tx_norm = t['TX'] - tx_roll"
   ]
  },
  {
   "cell_type": "code",
   "execution_count": 21,
   "id": "406ddfb3",
   "metadata": {},
   "outputs": [
    {
     "data": {
      "image/png": "[encoded data removed]",
      "text/plain": [
       "<Figure size 1008x432 with 1 Axes>"
      ]
     },
     "metadata": {
      "needs_background": "light"
     },
     "output_type": "display_data"
    }
   ],
   "source": [
    "t['TX'].plot(figsize=(14,6), linewidth=2, fontsize=14)\n",
    "tx_roll.plot(figsize=(14,6), linewidth=2, fontsize=14)\n",
    "plt.legend(fontsize=20)\n",
    "plt.xlabel('Date',fontsize=20);"
   ]
  },
  {
   "cell_type": "code",
   "execution_count": 22,
   "id": "82c200b6",
   "metadata": {},
   "outputs": [
    {
     "data": {
      "image/png": "[encoded data removed]",
      "text/plain": [
       "<Figure size 432x288 with 1 Axes>"
      ]
     },
     "metadata": {
      "needs_background": "light"
     },
     "output_type": "display_data"
    }
   ],
   "source": [
    "tx_norm.plot()\n",
    "plt.xlabel('Date',fontsize=20);"
   ]
  },
  {
   "cell_type": "code",
   "execution_count": 23,
   "id": "0cbe147b",
   "metadata": {},
   "outputs": [
    {
     "name": "stdout",
     "output_type": "stream",
     "text": [
      "The data is stationary with a fuller score of 0.0\n"
     ]
    }
   ],
   "source": [
    "dicky_fuller_test(tx_norm.diff().dropna(), 0.05)"
   ]
  },
  {
   "cell_type": "code",
   "execution_count": 24,
   "id": "ebf07fb0",
   "metadata": {},
   "outputs": [],
   "source": [
    "tx_flat = tx_norm.diff().dropna()"
   ]
  },
  {
   "cell_type": "code",
   "execution_count": 25,
   "id": "f7775c36",
   "metadata": {},
   "outputs": [
    {
     "data": {
      "image/png": "[encoded data removed]",
      "text/plain": [
       "<Figure size 1008x432 with 1 Axes>"
      ]
     },
     "metadata": {
      "needs_background": "light"
     },
     "output_type": "display_data"
    }
   ],
   "source": [
    "tx_flat.plot(figsize=(14,6), linewidth=2, fontsize=14);"
   ]
  },
  {
   "cell_type": "code",
   "execution_count": 26,
   "id": "426eec11",
   "metadata": {},
   "outputs": [
    {
     "name": "stdout",
     "output_type": "stream",
     "text": [
      "Before transformations:\n",
      "The data is not stationary with a fuller score of 0.183\n",
      "After subtracting rolling mean:\n",
      "The data is not stationary with a fuller score of 0.082\n",
      "After differencing:\n",
      "The data is stationary with a fuller score of 0.001\n",
      "With only differencing:\n",
      "The data is not stationary with a fuller score of 0.127\n",
      "With differencing twice:\n",
      "The data is stationary with a fuller score of 0.0\n"
     ]
    }
   ],
   "source": [
    "az_flat = stationizer(t['AZ'], 12)"
   ]
  },
  {
   "cell_type": "code",
   "execution_count": 39,
   "id": "a3fddee1",
   "metadata": {
    "scrolled": true
   },
   "outputs": [
    {
     "data": {
      "image/png": "[encoded data removed]",
      "text/plain": [
       "<Figure size 1008x432 with 1 Axes>"
      ]
     },
     "metadata": {
      "needs_background": "light"
     },
     "output_type": "display_data"
    }
   ],
   "source": [
    "az_flat.plot(figsize=(14,6), linewidth=2, fontsize=14, rot=45);\n"
   ]
  },
  {
   "cell_type": "markdown",
   "id": "99fcd956",
   "metadata": {},
   "source": [
    "# Feature Engineering\n",
    "\n",
    "We need to convert our price data into quartarly ROI using a rolling ROI function before making items stationary."
   ]
  },
  {
   "cell_type": "code",
   "execution_count": 28,
   "id": "8b2693fc",
   "metadata": {},
   "outputs": [],
   "source": [
    "# dummy data set for engineering\n",
    "d = datalist[0]\n",
    "\n",
    "d_roi = (d.rolling(window = 3).max() - d.rolling(window = 3).min()) / d.rolling(window = 3).min()"
   ]
  },
  {
   "cell_type": "code",
   "execution_count": 29,
   "id": "caee91d6",
   "metadata": {
    "scrolled": true
   },
   "outputs": [
    {
     "data": {
      "text/html": [
       "<div>\n",
       "<style scoped>\n",
       "    .dataframe tbody tr th:only-of-type {\n",
       "        vertical-align: middle;\n",
       "    }\n",
       "\n",
       "    .dataframe tbody tr th {\n",
       "        vertical-align: top;\n",
       "    }\n",
       "\n",
       "    .dataframe thead th {\n",
       "        text-align: right;\n",
       "    }\n",
       "</style>\n",
       "<table border=\"1\" class=\"dataframe\">\n",
       "  <thead>\n",
       "    <tr style=\"text-align: right;\">\n",
       "      <th>State</th>\n",
       "      <th>AK</th>\n",
       "      <th>AL</th>\n",
       "      <th>AR</th>\n",
       "      <th>AZ</th>\n",
       "      <th>CA</th>\n",
       "      <th>CO</th>\n",
       "      <th>CT</th>\n",
       "      <th>DC</th>\n",
       "      <th>DE</th>\n",
       "      <th>FL</th>\n",
       "      <th>...</th>\n",
       "      <th>SD</th>\n",
       "      <th>TN</th>\n",
       "      <th>TX</th>\n",
       "      <th>UT</th>\n",
       "      <th>VA</th>\n",
       "      <th>VT</th>\n",
       "      <th>WA</th>\n",
       "      <th>WI</th>\n",
       "      <th>WV</th>\n",
       "      <th>WY</th>\n",
       "    </tr>\n",
       "    <tr>\n",
       "      <th>Date</th>\n",
       "      <th></th>\n",
       "      <th></th>\n",
       "      <th></th>\n",
       "      <th></th>\n",
       "      <th></th>\n",
       "      <th></th>\n",
       "      <th></th>\n",
       "      <th></th>\n",
       "      <th></th>\n",
       "      <th></th>\n",
       "      <th></th>\n",
       "      <th></th>\n",
       "      <th></th>\n",
       "      <th></th>\n",
       "      <th></th>\n",
       "      <th></th>\n",
       "      <th></th>\n",
       "      <th></th>\n",
       "      <th></th>\n",
       "      <th></th>\n",
       "      <th></th>\n",
       "    </tr>\n",
       "  </thead>\n",
       "  <tbody>\n",
       "    <tr>\n",
       "      <th>2017-12-01</th>\n",
       "      <td>0.007719</td>\n",
       "      <td>0.007253</td>\n",
       "      <td>0.001619</td>\n",
       "      <td>0.011503</td>\n",
       "      <td>0.017942</td>\n",
       "      <td>0.013328</td>\n",
       "      <td>0.003695</td>\n",
       "      <td>0.005328</td>\n",
       "      <td>0.034194</td>\n",
       "      <td>0.008224</td>\n",
       "      <td>...</td>\n",
       "      <td>0.011356</td>\n",
       "      <td>0.010927</td>\n",
       "      <td>0.006254</td>\n",
       "      <td>0.014658</td>\n",
       "      <td>0.003442</td>\n",
       "      <td>0.004565</td>\n",
       "      <td>0.022623</td>\n",
       "      <td>0.009571</td>\n",
       "      <td>0.003518</td>\n",
       "      <td>0.009417</td>\n",
       "    </tr>\n",
       "    <tr>\n",
       "      <th>2018-01-01</th>\n",
       "      <td>0.007457</td>\n",
       "      <td>0.009491</td>\n",
       "      <td>0.003780</td>\n",
       "      <td>0.011192</td>\n",
       "      <td>0.017768</td>\n",
       "      <td>0.015469</td>\n",
       "      <td>0.004002</td>\n",
       "      <td>0.006979</td>\n",
       "      <td>0.030012</td>\n",
       "      <td>0.008942</td>\n",
       "      <td>...</td>\n",
       "      <td>0.013161</td>\n",
       "      <td>0.010933</td>\n",
       "      <td>0.006495</td>\n",
       "      <td>0.014024</td>\n",
       "      <td>0.004263</td>\n",
       "      <td>0.011903</td>\n",
       "      <td>0.023185</td>\n",
       "      <td>0.009772</td>\n",
       "      <td>0.002120</td>\n",
       "      <td>0.009115</td>\n",
       "    </tr>\n",
       "    <tr>\n",
       "      <th>2018-02-01</th>\n",
       "      <td>0.004682</td>\n",
       "      <td>0.013165</td>\n",
       "      <td>0.009517</td>\n",
       "      <td>0.010554</td>\n",
       "      <td>0.016954</td>\n",
       "      <td>0.016023</td>\n",
       "      <td>0.005850</td>\n",
       "      <td>0.010613</td>\n",
       "      <td>0.018154</td>\n",
       "      <td>0.011294</td>\n",
       "      <td>...</td>\n",
       "      <td>0.014245</td>\n",
       "      <td>0.012508</td>\n",
       "      <td>0.008990</td>\n",
       "      <td>0.013779</td>\n",
       "      <td>0.006866</td>\n",
       "      <td>0.012817</td>\n",
       "      <td>0.019755</td>\n",
       "      <td>0.009661</td>\n",
       "      <td>0.002520</td>\n",
       "      <td>0.010605</td>\n",
       "    </tr>\n",
       "    <tr>\n",
       "      <th>2018-03-01</th>\n",
       "      <td>0.001467</td>\n",
       "      <td>0.020352</td>\n",
       "      <td>0.019993</td>\n",
       "      <td>0.011824</td>\n",
       "      <td>0.017341</td>\n",
       "      <td>0.018472</td>\n",
       "      <td>0.007216</td>\n",
       "      <td>0.013832</td>\n",
       "      <td>0.010637</td>\n",
       "      <td>0.016087</td>\n",
       "      <td>...</td>\n",
       "      <td>0.019069</td>\n",
       "      <td>0.020210</td>\n",
       "      <td>0.013403</td>\n",
       "      <td>0.017974</td>\n",
       "      <td>0.011596</td>\n",
       "      <td>0.007034</td>\n",
       "      <td>0.018006</td>\n",
       "      <td>0.009594</td>\n",
       "      <td>0.006995</td>\n",
       "      <td>0.010641</td>\n",
       "    </tr>\n",
       "    <tr>\n",
       "      <th>2018-04-01</th>\n",
       "      <td>0.003471</td>\n",
       "      <td>0.022185</td>\n",
       "      <td>0.023530</td>\n",
       "      <td>0.012048</td>\n",
       "      <td>0.014688</td>\n",
       "      <td>0.018341</td>\n",
       "      <td>0.005654</td>\n",
       "      <td>0.009173</td>\n",
       "      <td>0.027853</td>\n",
       "      <td>0.016849</td>\n",
       "      <td>...</td>\n",
       "      <td>0.018865</td>\n",
       "      <td>0.023809</td>\n",
       "      <td>0.012924</td>\n",
       "      <td>0.017840</td>\n",
       "      <td>0.012140</td>\n",
       "      <td>0.002023</td>\n",
       "      <td>0.016016</td>\n",
       "      <td>0.008663</td>\n",
       "      <td>0.009182</td>\n",
       "      <td>0.006089</td>\n",
       "    </tr>\n",
       "  </tbody>\n",
       "</table>\n",
       "<p>5 rows × 51 columns</p>\n",
       "</div>"
      ],
      "text/plain": [
       "State             AK        AL        AR        AZ        CA        CO  \\\n",
       "Date                                                                     \n",
       "2017-12-01  0.007719  0.007253  0.001619  0.011503  0.017942  0.013328   \n",
       "2018-01-01  0.007457  0.009491  0.003780  0.011192  0.017768  0.015469   \n",
       "2018-02-01  0.004682  0.013165  0.009517  0.010554  0.016954  0.016023   \n",
       "2018-03-01  0.001467  0.020352  0.019993  0.011824  0.017341  0.018472   \n",
       "2018-04-01  0.003471  0.022185  0.023530  0.012048  0.014688  0.018341   \n",
       "\n",
       "State             CT        DC        DE        FL  ...        SD        TN  \\\n",
       "Date                                                ...                       \n",
       "2017-12-01  0.003695  0.005328  0.034194  0.008224  ...  0.011356  0.010927   \n",
       "2018-01-01  0.004002  0.006979  0.030012  0.008942  ...  0.013161  0.010933   \n",
       "2018-02-01  0.005850  0.010613  0.018154  0.011294  ...  0.014245  0.012508   \n",
       "2018-03-01  0.007216  0.013832  0.010637  0.016087  ...  0.019069  0.020210   \n",
       "2018-04-01  0.005654  0.009173  0.027853  0.016849  ...  0.018865  0.023809   \n",
       "\n",
       "State             TX        UT        VA        VT        WA        WI  \\\n",
       "Date                                                                     \n",
       "2017-12-01  0.006254  0.014658  0.003442  0.004565  0.022623  0.009571   \n",
       "2018-01-01  0.006495  0.014024  0.004263  0.011903  0.023185  0.009772   \n",
       "2018-02-01  0.008990  0.013779  0.006866  0.012817  0.019755  0.009661   \n",
       "2018-03-01  0.013403  0.017974  0.011596  0.007034  0.018006  0.009594   \n",
       "2018-04-01  0.012924  0.017840  0.012140  0.002023  0.016016  0.008663   \n",
       "\n",
       "State             WV        WY  \n",
       "Date                            \n",
       "2017-12-01  0.003518  0.009417  \n",
       "2018-01-01  0.002120  0.009115  \n",
       "2018-02-01  0.002520  0.010605  \n",
       "2018-03-01  0.006995  0.010641  \n",
       "2018-04-01  0.009182  0.006089  \n",
       "\n",
       "[5 rows x 51 columns]"
      ]
     },
     "execution_count": 29,
     "metadata": {},
     "output_type": "execute_result"
    }
   ],
   "source": [
    "d_roi.tail()"
   ]
  },
  {
   "cell_type": "code",
   "execution_count": 30,
   "id": "fa135567",
   "metadata": {},
   "outputs": [],
   "source": [
    "# Stationizing the data in the data frame for all data frames.\n",
    "cities = get_qroi(datalist[3])\n",
    "counties = get_qroi(datalist[2])\n",
    "metros = get_qroi(datalist[1])\n",
    "states = get_qroi(datalist[0])"
   ]
  },
  {
   "cell_type": "code",
   "execution_count": 31,
   "id": "07bfc210",
   "metadata": {},
   "outputs": [],
   "source": [
    "for i in cities.columns:\n",
    "    cities[i] = stationizer(cities[i].dropna(), 12, verbose=False)\n",
    "    \n",
    "for i in counties.columns:\n",
    "    counties[i] = stationizer(counties[i].dropna(), 12, verbose=False)\n",
    "    \n",
    "for i in metros.columns:\n",
    "    metros[i] = stationizer(metros[i].dropna(), 12, verbose=False)\n",
    "    \n",
    "for i in states.columns:\n",
    "    states[i] = stationizer(states[i].dropna(), 12, verbose=False)"
   ]
  },
  {
   "cell_type": "code",
   "execution_count": 32,
   "id": "5c45f138",
   "metadata": {},
   "outputs": [],
   "source": [
    "# Fix null values and other issues\n",
    "cities = fix_na(cities)\n",
    "counties = fix_na(counties)\n",
    "metros = fix_na(metros)\n",
    "states = fix_na(states)"
   ]
  },
  {
   "cell_type": "code",
   "execution_count": 33,
   "id": "6e160466",
   "metadata": {},
   "outputs": [],
   "source": [
    "# check for remaining null values in cities dataframe\n",
    "get_na(cities)"
   ]
  },
  {
   "cell_type": "code",
   "execution_count": 34,
   "id": "66ee1fdd",
   "metadata": {},
   "outputs": [],
   "source": [
    "# check for remaining null values in counties dataframe\n",
    "get_na(counties)"
   ]
  },
  {
   "cell_type": "code",
   "execution_count": 35,
   "id": "e8ec5bcf",
   "metadata": {},
   "outputs": [],
   "source": [
    "get_na(metros)"
   ]
  },
  {
   "cell_type": "code",
   "execution_count": 36,
   "id": "e2de7f2f",
   "metadata": {},
   "outputs": [],
   "source": [
    "get_na(states)"
   ]
  },
  {
   "cell_type": "code",
   "execution_count": 37,
   "id": "7c4d11f9",
   "metadata": {},
   "outputs": [],
   "source": [
    "# Saving master data sets to file for master notebook\n",
    "cities.to_csv(\"./Data/Cities.csv\")\n",
    "counties.to_csv(\"./Data/Counties.csv\")\n",
    "metros.to_csv(\"./Data/Metros.csv\")\n",
    "states.to_csv(\"./Data/States.csv\")"
   ]
  },
  {
   "cell_type": "code",
   "execution_count": 38,
   "id": "69cf13de",
   "metadata": {},
   "outputs": [
    {
     "ename": "KeyboardInterrupt",
     "evalue": "",
     "output_type": "error",
     "traceback": [
      "\u001b[1;31m---------------------------------------------------------------------------\u001b[0m",
      "\u001b[1;31mKeyboardInterrupt\u001b[0m                         Traceback (most recent call last)",
      "\u001b[1;32m~\\AppData\\Local\\Temp/ipykernel_30340/1322025499.py\u001b[0m in \u001b[0;36m<module>\u001b[1;34m\u001b[0m\n\u001b[0;32m      4\u001b[0m \u001b[0mzips\u001b[0m \u001b[1;33m=\u001b[0m \u001b[0mget_qroi\u001b[0m\u001b[1;33m(\u001b[0m\u001b[0mzips\u001b[0m\u001b[1;33m)\u001b[0m\u001b[1;33m\u001b[0m\u001b[1;33m\u001b[0m\u001b[0m\n\u001b[0;32m      5\u001b[0m \u001b[1;32mfor\u001b[0m \u001b[0mi\u001b[0m \u001b[1;32min\u001b[0m \u001b[0mzips\u001b[0m\u001b[1;33m.\u001b[0m\u001b[0mcolumns\u001b[0m\u001b[1;33m:\u001b[0m\u001b[1;33m\u001b[0m\u001b[1;33m\u001b[0m\u001b[0m\n\u001b[1;32m----> 6\u001b[1;33m     \u001b[0mzips\u001b[0m\u001b[1;33m[\u001b[0m\u001b[0mi\u001b[0m\u001b[1;33m]\u001b[0m \u001b[1;33m=\u001b[0m \u001b[0mstationizer\u001b[0m\u001b[1;33m(\u001b[0m\u001b[0mzips\u001b[0m\u001b[1;33m[\u001b[0m\u001b[0mi\u001b[0m\u001b[1;33m]\u001b[0m\u001b[1;33m.\u001b[0m\u001b[0mdropna\u001b[0m\u001b[1;33m(\u001b[0m\u001b[1;33m)\u001b[0m\u001b[1;33m,\u001b[0m \u001b[1;36m12\u001b[0m\u001b[1;33m,\u001b[0m \u001b[0mverbose\u001b[0m\u001b[1;33m=\u001b[0m\u001b[1;32mFalse\u001b[0m\u001b[1;33m)\u001b[0m\u001b[1;33m\u001b[0m\u001b[1;33m\u001b[0m\u001b[0m\n\u001b[0m\u001b[0;32m      7\u001b[0m \u001b[0mzips\u001b[0m \u001b[1;33m=\u001b[0m \u001b[0mfix_na\u001b[0m\u001b[1;33m(\u001b[0m\u001b[0mzips\u001b[0m\u001b[1;33m)\u001b[0m\u001b[1;33m\u001b[0m\u001b[1;33m\u001b[0m\u001b[0m\n",
      "\u001b[1;32m~\\AppData\\Local\\Temp/ipykernel_30340/1475003121.py\u001b[0m in \u001b[0;36mstationizer\u001b[1;34m(df, window, alpha, verbose)\u001b[0m\n\u001b[0;32m     27\u001b[0m         \u001b[0mdicky_fuller_test\u001b[0m\u001b[1;33m(\u001b[0m\u001b[0mdf4\u001b[0m\u001b[1;33m.\u001b[0m\u001b[0mdropna\u001b[0m\u001b[1;33m(\u001b[0m\u001b[1;33m)\u001b[0m\u001b[1;33m,\u001b[0m \u001b[0malpha\u001b[0m\u001b[1;33m)\u001b[0m\u001b[1;33m\u001b[0m\u001b[1;33m\u001b[0m\u001b[0m\n\u001b[0;32m     28\u001b[0m \u001b[1;33m\u001b[0m\u001b[0m\n\u001b[1;32m---> 29\u001b[1;33m     \u001b[1;32mif\u001b[0m \u001b[0madfuller\u001b[0m\u001b[1;33m(\u001b[0m\u001b[0mdf\u001b[0m\u001b[1;33m)\u001b[0m\u001b[1;33m[\u001b[0m\u001b[1;36m1\u001b[0m\u001b[1;33m]\u001b[0m \u001b[1;33m<\u001b[0m \u001b[0malpha\u001b[0m\u001b[1;33m:\u001b[0m\u001b[1;33m\u001b[0m\u001b[1;33m\u001b[0m\u001b[0m\n\u001b[0m\u001b[0;32m     30\u001b[0m         \u001b[1;32mreturn\u001b[0m \u001b[0mdf\u001b[0m\u001b[1;33m\u001b[0m\u001b[1;33m\u001b[0m\u001b[0m\n\u001b[0;32m     31\u001b[0m     \u001b[1;32melif\u001b[0m \u001b[0madfuller\u001b[0m\u001b[1;33m(\u001b[0m\u001b[0mdf1\u001b[0m\u001b[1;33m.\u001b[0m\u001b[0mdropna\u001b[0m\u001b[1;33m(\u001b[0m\u001b[1;33m)\u001b[0m\u001b[1;33m)\u001b[0m\u001b[1;33m[\u001b[0m\u001b[1;36m1\u001b[0m\u001b[1;33m]\u001b[0m \u001b[1;33m<\u001b[0m \u001b[0malpha\u001b[0m\u001b[1;33m:\u001b[0m\u001b[1;33m\u001b[0m\u001b[1;33m\u001b[0m\u001b[0m\n",
      "\u001b[1;32m~\\anaconda\\lib\\site-packages\\statsmodels\\tsa\\stattools.py\u001b[0m in \u001b[0;36madfuller\u001b[1;34m(x, maxlag, regression, autolag, store, regresults)\u001b[0m\n\u001b[0;32m    339\u001b[0m         \u001b[0micbest\u001b[0m \u001b[1;33m=\u001b[0m \u001b[1;32mNone\u001b[0m\u001b[1;33m\u001b[0m\u001b[1;33m\u001b[0m\u001b[0m\n\u001b[0;32m    340\u001b[0m     \u001b[1;32mif\u001b[0m \u001b[0mregression\u001b[0m \u001b[1;33m!=\u001b[0m \u001b[1;34m\"nc\"\u001b[0m\u001b[1;33m:\u001b[0m\u001b[1;33m\u001b[0m\u001b[1;33m\u001b[0m\u001b[0m\n\u001b[1;32m--> 341\u001b[1;33m         resols = OLS(\n\u001b[0m\u001b[0;32m    342\u001b[0m             \u001b[0mxdshort\u001b[0m\u001b[1;33m,\u001b[0m \u001b[0madd_trend\u001b[0m\u001b[1;33m(\u001b[0m\u001b[0mxdall\u001b[0m\u001b[1;33m[\u001b[0m\u001b[1;33m:\u001b[0m\u001b[1;33m,\u001b[0m \u001b[1;33m:\u001b[0m \u001b[0musedlag\u001b[0m \u001b[1;33m+\u001b[0m \u001b[1;36m1\u001b[0m\u001b[1;33m]\u001b[0m\u001b[1;33m,\u001b[0m \u001b[0mregression\u001b[0m\u001b[1;33m)\u001b[0m\u001b[1;33m\u001b[0m\u001b[1;33m\u001b[0m\u001b[0m\n\u001b[0;32m    343\u001b[0m         ).fit()\n",
      "\u001b[1;32m~\\anaconda\\lib\\site-packages\\statsmodels\\regression\\linear_model.py\u001b[0m in \u001b[0;36mfit\u001b[1;34m(self, method, cov_type, cov_kwds, use_t, **kwargs)\u001b[0m\n\u001b[0;32m    309\u001b[0m                 \u001b[1;31m# Cache these singular values for use later.\u001b[0m\u001b[1;33m\u001b[0m\u001b[1;33m\u001b[0m\u001b[0m\n\u001b[0;32m    310\u001b[0m                 \u001b[0mself\u001b[0m\u001b[1;33m.\u001b[0m\u001b[0mwexog_singular_values\u001b[0m \u001b[1;33m=\u001b[0m \u001b[0msingular_values\u001b[0m\u001b[1;33m\u001b[0m\u001b[1;33m\u001b[0m\u001b[0m\n\u001b[1;32m--> 311\u001b[1;33m                 \u001b[0mself\u001b[0m\u001b[1;33m.\u001b[0m\u001b[0mrank\u001b[0m \u001b[1;33m=\u001b[0m \u001b[0mnp\u001b[0m\u001b[1;33m.\u001b[0m\u001b[0mlinalg\u001b[0m\u001b[1;33m.\u001b[0m\u001b[0mmatrix_rank\u001b[0m\u001b[1;33m(\u001b[0m\u001b[0mnp\u001b[0m\u001b[1;33m.\u001b[0m\u001b[0mdiag\u001b[0m\u001b[1;33m(\u001b[0m\u001b[0msingular_values\u001b[0m\u001b[1;33m)\u001b[0m\u001b[1;33m)\u001b[0m\u001b[1;33m\u001b[0m\u001b[1;33m\u001b[0m\u001b[0m\n\u001b[0m\u001b[0;32m    312\u001b[0m \u001b[1;33m\u001b[0m\u001b[0m\n\u001b[0;32m    313\u001b[0m             \u001b[0mbeta\u001b[0m \u001b[1;33m=\u001b[0m \u001b[0mnp\u001b[0m\u001b[1;33m.\u001b[0m\u001b[0mdot\u001b[0m\u001b[1;33m(\u001b[0m\u001b[0mself\u001b[0m\u001b[1;33m.\u001b[0m\u001b[0mpinv_wexog\u001b[0m\u001b[1;33m,\u001b[0m \u001b[0mself\u001b[0m\u001b[1;33m.\u001b[0m\u001b[0mwendog\u001b[0m\u001b[1;33m)\u001b[0m\u001b[1;33m\u001b[0m\u001b[1;33m\u001b[0m\u001b[0m\n",
      "\u001b[1;32m<__array_function__ internals>\u001b[0m in \u001b[0;36mmatrix_rank\u001b[1;34m(*args, **kwargs)\u001b[0m\n",
      "\u001b[1;32m~\\anaconda\\lib\\site-packages\\numpy\\linalg\\linalg.py\u001b[0m in \u001b[0;36mmatrix_rank\u001b[1;34m(M, tol, hermitian)\u001b[0m\n\u001b[0;32m   1901\u001b[0m     \u001b[0mS\u001b[0m \u001b[1;33m=\u001b[0m \u001b[0msvd\u001b[0m\u001b[1;33m(\u001b[0m\u001b[0mM\u001b[0m\u001b[1;33m,\u001b[0m \u001b[0mcompute_uv\u001b[0m\u001b[1;33m=\u001b[0m\u001b[1;32mFalse\u001b[0m\u001b[1;33m,\u001b[0m \u001b[0mhermitian\u001b[0m\u001b[1;33m=\u001b[0m\u001b[0mhermitian\u001b[0m\u001b[1;33m)\u001b[0m\u001b[1;33m\u001b[0m\u001b[1;33m\u001b[0m\u001b[0m\n\u001b[0;32m   1902\u001b[0m     \u001b[1;32mif\u001b[0m \u001b[0mtol\u001b[0m \u001b[1;32mis\u001b[0m \u001b[1;32mNone\u001b[0m\u001b[1;33m:\u001b[0m\u001b[1;33m\u001b[0m\u001b[1;33m\u001b[0m\u001b[0m\n\u001b[1;32m-> 1903\u001b[1;33m         \u001b[0mtol\u001b[0m \u001b[1;33m=\u001b[0m \u001b[0mS\u001b[0m\u001b[1;33m.\u001b[0m\u001b[0mmax\u001b[0m\u001b[1;33m(\u001b[0m\u001b[0maxis\u001b[0m\u001b[1;33m=\u001b[0m\u001b[1;33m-\u001b[0m\u001b[1;36m1\u001b[0m\u001b[1;33m,\u001b[0m \u001b[0mkeepdims\u001b[0m\u001b[1;33m=\u001b[0m\u001b[1;32mTrue\u001b[0m\u001b[1;33m)\u001b[0m \u001b[1;33m*\u001b[0m \u001b[0mmax\u001b[0m\u001b[1;33m(\u001b[0m\u001b[0mM\u001b[0m\u001b[1;33m.\u001b[0m\u001b[0mshape\u001b[0m\u001b[1;33m[\u001b[0m\u001b[1;33m-\u001b[0m\u001b[1;36m2\u001b[0m\u001b[1;33m:\u001b[0m\u001b[1;33m]\u001b[0m\u001b[1;33m)\u001b[0m \u001b[1;33m*\u001b[0m \u001b[0mfinfo\u001b[0m\u001b[1;33m(\u001b[0m\u001b[0mS\u001b[0m\u001b[1;33m.\u001b[0m\u001b[0mdtype\u001b[0m\u001b[1;33m)\u001b[0m\u001b[1;33m.\u001b[0m\u001b[0meps\u001b[0m\u001b[1;33m\u001b[0m\u001b[1;33m\u001b[0m\u001b[0m\n\u001b[0m\u001b[0;32m   1904\u001b[0m     \u001b[1;32melse\u001b[0m\u001b[1;33m:\u001b[0m\u001b[1;33m\u001b[0m\u001b[1;33m\u001b[0m\u001b[0m\n\u001b[0;32m   1905\u001b[0m         \u001b[0mtol\u001b[0m \u001b[1;33m=\u001b[0m \u001b[0masarray\u001b[0m\u001b[1;33m(\u001b[0m\u001b[0mtol\u001b[0m\u001b[1;33m)\u001b[0m\u001b[1;33m[\u001b[0m\u001b[1;33m...\u001b[0m\u001b[1;33m,\u001b[0m \u001b[0mnewaxis\u001b[0m\u001b[1;33m]\u001b[0m\u001b[1;33m\u001b[0m\u001b[1;33m\u001b[0m\u001b[0m\n",
      "\u001b[1;32m~\\anaconda\\lib\\site-packages\\numpy\\core\\_methods.py\u001b[0m in \u001b[0;36m_amax\u001b[1;34m(a, axis, out, keepdims, initial, where)\u001b[0m\n\u001b[0;32m     37\u001b[0m def _amax(a, axis=None, out=None, keepdims=False,\n\u001b[0;32m     38\u001b[0m           initial=_NoValue, where=True):\n\u001b[1;32m---> 39\u001b[1;33m     \u001b[1;32mreturn\u001b[0m \u001b[0mumr_maximum\u001b[0m\u001b[1;33m(\u001b[0m\u001b[0ma\u001b[0m\u001b[1;33m,\u001b[0m \u001b[0maxis\u001b[0m\u001b[1;33m,\u001b[0m \u001b[1;32mNone\u001b[0m\u001b[1;33m,\u001b[0m \u001b[0mout\u001b[0m\u001b[1;33m,\u001b[0m \u001b[0mkeepdims\u001b[0m\u001b[1;33m,\u001b[0m \u001b[0minitial\u001b[0m\u001b[1;33m,\u001b[0m \u001b[0mwhere\u001b[0m\u001b[1;33m)\u001b[0m\u001b[1;33m\u001b[0m\u001b[1;33m\u001b[0m\u001b[0m\n\u001b[0m\u001b[0;32m     40\u001b[0m \u001b[1;33m\u001b[0m\u001b[0m\n\u001b[0;32m     41\u001b[0m def _amin(a, axis=None, out=None, keepdims=False,\n",
      "\u001b[1;31mKeyboardInterrupt\u001b[0m: "
     ]
    }
   ],
   "source": [
    "# attempting repeat process for zipcodes\n",
    "\n",
    "zips = format_df(df_zips)\n",
    "zips = get_qroi(zips)\n",
    "for i in zips.columns:\n",
    "    zips[i] = stationizer(zips[i].dropna(), 12, verbose=False)\n",
    "zips = fix_na(zips)"
   ]
  },
  {
   "cell_type": "code",
   "execution_count": null,
   "id": "42c2c5d4",
   "metadata": {},
   "outputs": [],
   "source": [
    "get_na(zips)"
   ]
  },
  {
   "cell_type": "code",
   "execution_count": null,
   "id": "0606b855",
   "metadata": {},
   "outputs": [],
   "source": [
    "zips.to_csv(\"./Data/Zips.csv\")"
   ]
  }
 ],
 "metadata": {
  "kernelspec": {
   "display_name": "Python (learn-env)",
   "language": "python",
   "name": "learn-env"
  },
  "language_info": {
   "codemirror_mode": {
    "name": "ipython",
    "version": 3
   },
   "file_extension": ".py",
   "mimetype": "text/x-python",
   "name": "python",
   "nbconvert_exporter": "python",
   "pygments_lexer": "ipython3",
   "version": "3.9.7"
  }
 },
 "nbformat": 4,
 "nbformat_minor": 5
}
